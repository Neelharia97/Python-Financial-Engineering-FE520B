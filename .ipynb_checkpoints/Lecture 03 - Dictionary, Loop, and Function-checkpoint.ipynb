{
 "cells": [
  {
   "cell_type": "markdown",
   "metadata": {},
   "source": [
    "## 1. Introducing Dictionaries (curly brackets)"
   ]
  },
  {
   "cell_type": "markdown",
   "metadata": {},
   "source": [
    "A dictionary is an unordered set of key-value pairs. When you add a key to a dictionary, you must also add\n",
    "a value for that key. (You can always change the value later.) Python dictionaries are optimized for retrieving\n",
    "the value when you know the key, but not the other way around.\n",
    "\n",
    "One of Python's built−in datatypes is the dictionary, which defines one−to−one relationships between keys and values. Key is __unique__.<br>\n",
    "Note: Key can be string, int, float, boolean, tuple. Value can be any object. (Everything in Python is object.)"
   ]
  },
  {
   "cell_type": "code",
   "execution_count": null,
   "metadata": {},
   "outputs": [],
   "source": [
    "  {key1: value1, \n",
    "   key2: value2, \n",
    "   key3: value3,\n",
    "       ...\n",
    "  }"
   ]
  },
  {
   "cell_type": "code",
   "execution_count": 2,
   "metadata": {},
   "outputs": [
    {
     "name": "stdout",
     "output_type": "stream",
     "text": [
      "{'server': 12, 'database': ['master', 9, True]}\n"
     ]
    }
   ],
   "source": [
    "# d = dict({\"server\":12, \"database\":\"master\"})\n",
    "d = {\"server\":12, \"database\":[\"master\", 9, True]}\n",
    "print(d)"
   ]
  },
  {
   "cell_type": "code",
   "execution_count": null,
   "metadata": {},
   "outputs": [],
   "source": [
    "len(d)"
   ]
  },
  {
   "cell_type": "code",
   "execution_count": null,
   "metadata": {},
   "outputs": [],
   "source": [
    "12 in d  #You can get values by key, but you can’t get keys by value"
   ]
  },
  {
   "cell_type": "code",
   "execution_count": null,
   "metadata": {},
   "outputs": [],
   "source": [
    "# You can also create a dictionary with such syntax. The combination of (key, value) is called item.\n",
    "d = dict([(\"server\",12), (\"database\",\"master\")])\n",
    "print(d)"
   ]
  },
  {
   "cell_type": "code",
   "execution_count": null,
   "metadata": {},
   "outputs": [],
   "source": [
    "d = {}"
   ]
  },
  {
   "cell_type": "code",
   "execution_count": null,
   "metadata": {},
   "outputs": [],
   "source": [
    "d['name'] = 'Dan'\n",
    "d['name2'] = 'Daniel'"
   ]
  },
  {
   "cell_type": "code",
   "execution_count": null,
   "metadata": {},
   "outputs": [],
   "source": [
    "d['database']  #You can get values by key, but you can’t get keys by value"
   ]
  },
  {
   "cell_type": "code",
   "execution_count": null,
   "metadata": {},
   "outputs": [],
   "source": [
    "d[\"server\"] = 15\n",
    "d"
   ]
  },
  {
   "cell_type": "code",
   "execution_count": null,
   "metadata": {},
   "outputs": [],
   "source": [
    "d[\"client\"] = 20\n",
    "d[0] = 'dan'\n",
    "print(d)"
   ]
  },
  {
   "cell_type": "code",
   "execution_count": null,
   "metadata": {},
   "outputs": [],
   "source": [
    "d[\"peter\"] = {1: 'One'}\n",
    "print(d)"
   ]
  },
  {
   "cell_type": "code",
   "execution_count": null,
   "metadata": {},
   "outputs": [],
   "source": [
    "dir(d)"
   ]
  },
  {
   "cell_type": "code",
   "execution_count": null,
   "metadata": {},
   "outputs": [],
   "source": [
    "a = d.keys()\n",
    "print(a)\n",
    "b = d.values()\n",
    "print(b)"
   ]
  },
  {
   "cell_type": "markdown",
   "metadata": {},
   "source": [
    "## 2.for statement, while statement, if else statement"
   ]
  },
  {
   "cell_type": "code",
   "execution_count": null,
   "metadata": {},
   "outputs": [],
   "source": [
    "if condition1:\n",
    "    body1\n",
    "else:\n",
    "    body2\n",
    "go on"
   ]
  },
  {
   "cell_type": "code",
   "execution_count": null,
   "metadata": {},
   "outputs": [],
   "source": [
    "# pseudo code\n",
    "if condition1:\n",
    "    body1\n",
    "elif condition2:\n",
    "    body2\n",
    "elif conditionsss:\n",
    "    bodys\n",
    "else:\n",
    "    body3\n",
    "out_of_statement"
   ]
  },
  {
   "cell_type": "code",
   "execution_count": null,
   "metadata": {},
   "outputs": [],
   "source": [
    "x = 100\n",
    "# simple if statement\n",
    "# each control line must end with colon (:) \n",
    "if False:   \n",
    "    # each line in the block should be \n",
    "    # indented with the same amount                                  \n",
    "    print (\"the value of x >= 50\")   \n",
    "print(\"done!\")\n"
   ]
  },
  {
   "cell_type": "code",
   "execution_count": null,
   "metadata": {},
   "outputs": [],
   "source": [
    "# if...else statement\n",
    "if x>=200:\n",
    "    print (\"the value of x >= 200\")\n",
    "else:\n",
    "    print (\"the value of x < 200\")"
   ]
  },
  {
   "cell_type": "code",
   "execution_count": null,
   "metadata": {},
   "outputs": [],
   "source": [
    "# if...elif...else statement\n",
    "if 0:\n",
    "    print (\"the value of x >= 200\")\n",
    "elif x>=50:\n",
    "    print (\"the value of x >= 50 and <200\")\n",
    "else:\n",
    "    print (\"the value of x < 50\")"
   ]
  },
  {
   "cell_type": "code",
   "execution_count": null,
   "metadata": {},
   "outputs": [],
   "source": [
    "# nested statements\n",
    "x=300\n",
    "y=500\n",
    "if x>=200:  \n",
    "    # inner \"if\" and \"else\" need to indent the same amount\n",
    "    if x>=y:              \n",
    "        if x == 0:\n",
    "            print ('hellp')     \n",
    "        else:\n",
    "            print (\"the value of x >= 200 and x>=y\")\n",
    "    else:\n",
    "        print (\"the value of x >= 200 and x<y\")\n",
    "else:\n",
    "    print (\"the value of x < 200\")"
   ]
  },
  {
   "cell_type": "code",
   "execution_count": null,
   "metadata": {},
   "outputs": [],
   "source": [
    "#practice \n",
    "word_count_dict={\"hello\":2,\"FE\":3, \"iphone\":2, 'FE1':1}\n",
    "new_word=\"FE2\"\n"
   ]
  },
  {
   "cell_type": "code",
   "execution_count": null,
   "metadata": {},
   "outputs": [],
   "source": [
    "if new_word in word_count_dict:\n",
    "    word_count_dict[new_word] = word_count_dict[new_word] + 1\n",
    "else:\n",
    "    word_count_dict[new_word] = 1\n",
    "word_count_dict"
   ]
  },
  {
   "cell_type": "code",
   "execution_count": null,
   "metadata": {},
   "outputs": [],
   "source": [
    "# pseudo code\n",
    "for varible in iterator/generator:\n",
    "    body\n",
    "\n",
    "out_of_statement"
   ]
  },
  {
   "cell_type": "code",
   "execution_count": null,
   "metadata": {},
   "outputs": [],
   "source": [
    "for item in [1,2,3,4,5]:\n",
    "    print ('hello')\n",
    "    "
   ]
  },
  {
   "cell_type": "code",
   "execution_count": null,
   "metadata": {},
   "outputs": [],
   "source": [
    "list(range(101))"
   ]
  },
  {
   "cell_type": "code",
   "execution_count": null,
   "metadata": {},
   "outputs": [],
   "source": [
    "s = 0\n",
    "for i in range(101):\n",
    "    s += i\n",
    "    print(i)\n",
    "print(s)"
   ]
  },
  {
   "cell_type": "code",
   "execution_count": null,
   "metadata": {},
   "outputs": [],
   "source": [
    "d = {'a': 100, 'b': 200, 'c': 300}\n",
    "for i in d:\n",
    "    print(d[i])"
   ]
  },
  {
   "cell_type": "code",
   "execution_count": null,
   "metadata": {},
   "outputs": [],
   "source": [
    "# pseudo code\n",
    "while condition:\n",
    "    body\n",
    "\n",
    "out_of_statement"
   ]
  },
  {
   "cell_type": "code",
   "execution_count": null,
   "metadata": {},
   "outputs": [],
   "source": [
    "i = 0\n",
    "while i<10:\n",
    "    print(i)\n",
    "    i += 1\n",
    "print ('out:', i)"
   ]
  },
  {
   "cell_type": "code",
   "execution_count": null,
   "metadata": {},
   "outputs": [],
   "source": [
    "# initiate an empty list\n",
    "list1=[]  \n",
    "\n",
    "# loop through any iterable object, e.g. \n",
    "# list, tuple, set, dictionary\n",
    "for idx, x in enumerate(range(1,6)):    \n",
    "    # append x**2 to the list\n",
    "    print(idx, x*x)\n"
   ]
  },
  {
   "cell_type": "code",
   "execution_count": null,
   "metadata": {},
   "outputs": [],
   "source": [
    "# A compact ways to use for loop in assigment\n",
    "list1=[x*x for x in range(1,6)]\n",
    "print (\"Square of each element in [1:6]:\", list1)"
   ]
  },
  {
   "cell_type": "code",
   "execution_count": null,
   "metadata": {},
   "outputs": [],
   "source": [
    "# Get index of each element during loop\n",
    "\n",
    "list1=[3,5,2,4,1]\n",
    "\n",
    "# enumerate(list1) converts a sequence to an iterator \n",
    "# which returns a tuple at a time\n",
    "# starting from (0, list1[0]), (1, list1[1]), ... to the end\n",
    "# where 0,1, .. is the index if each element in list1\n",
    "\n",
    "list2=[(idx+1,x*2) for idx,x in enumerate(list1) ]  \n",
    "print(list2)\n",
    "\n",
    "# Questions: \n",
    "# 1. how to show indexes starting from 1, not 0?\n",
    "# 2. how to get squared value of elements along with index "
   ]
  },
  {
   "cell_type": "code",
   "execution_count": null,
   "metadata": {},
   "outputs": [],
   "source": [
    "# Another way: only one variable item is used \n",
    "list2=[[item[0],item[1]] for item in enumerate(list1)]  \n",
    "print(\"index and value of each element \\\n",
    "in the list as a new list of tuple :\\n\", list2)"
   ]
  },
  {
   "cell_type": "code",
   "execution_count": null,
   "metadata": {},
   "outputs": [],
   "source": [
    "# Cobmine for loop with if statement\n",
    "\n",
    "list3=[(idx,x) for idx,x in enumerate([-2,5,-9,3,-4,12,1,8]) if x > 2]\n",
    "\n",
    "print(\"\\nget each **positive** element and its index \\\n",
    "in the list as a list of tuple\")\n",
    "print (list3)\n",
    "\n",
    "# Questions:\n",
    "# 1. how to get elements if their indexs > 2 ; \n",
    "# 2. how to get elements with even indexes?"
   ]
  },
  {
   "cell_type": "code",
   "execution_count": null,
   "metadata": {},
   "outputs": [],
   "source": [
    "list1=[1, 2, 3, 5, 10, 1, 4, 1, 11, 20, 50, 100]\n",
    "\n",
    "# get the count of each number as a dictionary\n",
    "counts={1:3, 2:1, 3:1, 4:1}"
   ]
  },
  {
   "cell_type": "code",
   "execution_count": null,
   "metadata": {},
   "outputs": [],
   "source": [
    "counts = {}\n",
    "for new_word in list1:\n",
    "    if new_word in counts:\n",
    "        counts[new_word] = counts[new_word] + 1\n",
    "    else:\n",
    "        counts[new_word] = 1\n",
    "counts"
   ]
  },
  {
   "cell_type": "code",
   "execution_count": null,
   "metadata": {},
   "outputs": [],
   "source": [
    "# Use loop to create a dictionary\n",
    "\n",
    "\n",
    "for item in list1:\n",
    "    if item in counts:\n",
    "        counts[item] += 1\n",
    "    else:\n",
    "        counts[item] = 1\n",
    "print (counts)\n",
    "\n",
    "\n",
    "# any compact way to achieve this?"
   ]
  },
  {
   "cell_type": "code",
   "execution_count": null,
   "metadata": {},
   "outputs": [],
   "source": [
    "dict((item, list1.count(item)) for item in (list1))"
   ]
  },
  {
   "cell_type": "code",
   "execution_count": null,
   "metadata": {},
   "outputs": [],
   "source": [
    "# nested loops\n",
    "\n",
    "print(\"\\nnested loops\")\n",
    "for x in range(1,3):    \n",
    "    for y in [1.2, 3.5]:\n",
    "        print (x*y)\n",
    "\n",
    "# a compact way to nest loops\n",
    "xy=[x*y for x in range(1,3) for y in [1.2, 3.5]]    \n",
    "\n",
    "print (xy)"
   ]
  },
  {
   "cell_type": "markdown",
   "metadata": {},
   "source": [
    "#### Keywords: break & continue \n",
    "* __break__ will break the current loop\n",
    "* __continue__ will skip the rest of loop body."
   ]
  },
  {
   "cell_type": "code",
   "execution_count": null,
   "metadata": {},
   "outputs": [],
   "source": [
    "for i in range(10):\n",
    "    for ii in range (11):\n",
    "        print (ii)\n",
    "        if ii > 5:\n",
    "            break\n",
    "            \n",
    "    "
   ]
  },
  {
   "cell_type": "code",
   "execution_count": null,
   "metadata": {},
   "outputs": [],
   "source": [
    "i = 0\n",
    "while True:\n",
    "    print(i)\n",
    "    i += 1\n",
    "    \n",
    "    if i > 10:\n",
    "        break\n",
    "        \n",
    "print('loop finished. i is %s'% i)"
   ]
  },
  {
   "cell_type": "code",
   "execution_count": null,
   "metadata": {},
   "outputs": [],
   "source": [
    "i = 0\n",
    "while i <10:\n",
    "    i += 1\n",
    "    if i > 5:\n",
    "        continue \n",
    "    print(i)\n",
    "    \n",
    "print('loop finished. i is %s'% i)"
   ]
  },
  {
   "cell_type": "markdown",
   "metadata": {},
   "source": [
    "## 3. Define functions\n",
    "* Using keyword 'def' to define a function , the format looks like this:\n",
    "* parameters have to be inside the ()\n",
    "* Put explanation in the first line of function\n",
    "* start as :, and indentation\n",
    "* Return for the end of function, return None if we don't have return\n"
   ]
  },
  {
   "cell_type": "code",
   "execution_count": null,
   "metadata": {},
   "outputs": [],
   "source": [
    "def hi(x,y):\n",
    "    '''\n",
    "    this is test, \n",
    "    x is int, y is str, out is list\n",
    "    '''\n",
    "    print (x, y)\n",
    "    if x == 0:\n",
    "        print('x0')\n",
    "hi(0,1)"
   ]
  },
  {
   "cell_type": "code",
   "execution_count": null,
   "metadata": {},
   "outputs": [],
   "source": [
    "out = hi(10, 'hi')\n",
    "out"
   ]
  },
  {
   "cell_type": "code",
   "execution_count": null,
   "metadata": {},
   "outputs": [],
   "source": [
    "print('Hello David')\n",
    "print('Hello Iris')\n",
    "\n",
    "def hello(name):\n",
    "    print('Hello %s'% name)\n",
    "    \n",
    "hello('Dan')"
   ]
  },
  {
   "cell_type": "code",
   "execution_count": null,
   "metadata": {},
   "outputs": [],
   "source": [
    "def myFunctionName(arg1, arg2, arg3 = 10):\n",
    "    print(arg1)\n",
    "    return arg2*arg3    \n",
    "\n",
    "print(myFunctionName(1,2))\n",
    "print(myFunctionName(1,2,3))"
   ]
  },
  {
   "cell_type": "code",
   "execution_count": null,
   "metadata": {},
   "outputs": [],
   "source": [
    "def SumOfList(ls)\n",
    "    s = 0\n",
    "    for ele in ls:\n",
    "        s += ele\n",
    "    print (s)\n",
    "    return str(s)"
   ]
  },
  {
   "cell_type": "code",
   "execution_count": null,
   "metadata": {},
   "outputs": [],
   "source": [
    "out = SumOfList([1,2,3,4,5])\n",
    "out"
   ]
  },
  {
   "cell_type": "code",
   "execution_count": null,
   "metadata": {},
   "outputs": [],
   "source": [
    "def reverseList(ls):\n",
    "    \n",
    "    return ls[::-1], len(ls)\n",
    "test_list = range(5)\n",
    "print(list(test_list))\n",
    "\n",
    "new_list = reverseList(list(test_list))\n",
    "print(new_list[1])"
   ]
  },
  {
   "cell_type": "code",
   "execution_count": null,
   "metadata": {},
   "outputs": [],
   "source": [
    "# Exercise : Define a function to\n",
    "# remove all occurrences of a value from a list \n",
    "# Requirements:\n",
    "# 1. two input parameters, a list and a value\n",
    "# 2. return a list that does not contain the value\n",
    "#    e.g. if inputs are [1,3,2,2] and 2, the return\n",
    "#    should be [1,3]\n",
    "\n",
    "def remove_all(aList, v):\n",
    "    # add your code\n",
    "    for x in aList:\n",
    "        if x == v:\n",
    "            aList.remove(v)\n",
    "    return aList\n",
    "    \n",
    "    "
   ]
  },
  {
   "cell_type": "code",
   "execution_count": null,
   "metadata": {},
   "outputs": [],
   "source": [
    "L=[1,3,2,2]\n",
    "print(\"remove 2: \", remove_all(L,2))"
   ]
  },
  {
   "cell_type": "code",
   "execution_count": null,
   "metadata": {},
   "outputs": [],
   "source": [
    "def remove_all(aList, v):\n",
    "    bList = aList.copy()\n",
    "    for x in aList:       \n",
    "        if x==v:\n",
    "            bList.remove(v)\n",
    "        #print(aList)\n",
    "    return bList\n",
    "\n",
    "# try this:\n",
    "L=[1,3,2,2]\n",
    "print(\"remove 3: \", remove_all(L,3))\n",
    "\n",
    "L=[1,3,2,2]\n",
    "print(\"remove 2: \", remove_all(L,2)) #why?"
   ]
  },
  {
   "cell_type": "code",
   "execution_count": null,
   "metadata": {},
   "outputs": [],
   "source": []
  }
 ],
 "metadata": {
  "kernelspec": {
   "display_name": "Python 3",
   "language": "python",
   "name": "python3"
  },
  "language_info": {
   "codemirror_mode": {
    "name": "ipython",
    "version": 3
   },
   "file_extension": ".py",
   "mimetype": "text/x-python",
   "name": "python",
   "nbconvert_exporter": "python",
   "pygments_lexer": "ipython3",
   "version": "3.7.1"
  }
 },
 "nbformat": 4,
 "nbformat_minor": 2
}
