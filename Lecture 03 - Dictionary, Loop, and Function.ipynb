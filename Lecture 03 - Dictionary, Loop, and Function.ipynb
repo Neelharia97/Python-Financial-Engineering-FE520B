{
 "cells": [
  {
   "cell_type": "markdown",
   "metadata": {},
   "source": [
    "## 1. Introducing Dictionaries (curly brackets)"
   ]
  },
  {
   "cell_type": "markdown",
   "metadata": {},
   "source": [
    "A dictionary is an unordered set of key-value pairs. When you add a key to a dictionary, you must also add\n",
    "a value for that key. (You can always change the value later.) Python dictionaries are optimized for retrieving\n",
    "the value when you know the key, but not the other way around.\n",
    "\n",
    "One of Python's built−in datatypes is the dictionary, which defines one−to−one relationships between keys and values. Key is __unique__.<br>\n",
    "Note: Key can be string, int, float, boolean, tuple. Value can be any object. (Everything in Python is object.)"
   ]
  },
  {
   "cell_type": "code",
   "execution_count": null,
   "metadata": {},
   "outputs": [],
   "source": [
    "  {key1: value1, \n",
    "   key2: value2, \n",
    "   key3: value3,\n",
    "       ...\n",
    "   }\n",
    "8"
   ]
  },
  {
   "cell_type": "code",
   "execution_count": 2,
   "metadata": {},
   "outputs": [
    {
     "name": "stdout",
     "output_type": "stream",
     "text": [
      "{'server': 12, 'database': ['master', 9, True]}\n"
     ]
    }
   ],
   "source": [
    "# d = dict({\"server\":12, \"database\":\"master\"})\n",
    "d = {\"server\":12, \"database\":[\"master\", 9, True]}\n",
    "print(d)"
   ]
  },
  {
   "cell_type": "code",
   "execution_count": 3,
   "metadata": {},
   "outputs": [
    {
     "data": {
      "text/plain": [
       "2"
      ]
     },
     "execution_count": 3,
     "metadata": {},
     "output_type": "execute_result"
    }
   ],
   "source": [
    "len(d)"
   ]
  },
  {
   "cell_type": "code",
   "execution_count": 5,
   "metadata": {},
   "outputs": [
    {
     "data": {
      "text/plain": [
       "True"
      ]
     },
     "execution_count": 5,
     "metadata": {},
     "output_type": "execute_result"
    }
   ],
   "source": [
    "\"server\" in d  #You can get values by key, but you can’t get keys by value"
   ]
  },
  {
   "cell_type": "code",
   "execution_count": null,
   "metadata": {},
   "outputs": [],
   "source": [
    "# You can also create a dictionary with such syntax. The combination of (key, value) is called item.\n",
    "d = dict([(\"server\",12), (\"database\",\"master\")])\n",
    "print(d)"
   ]
  },
  {
   "cell_type": "code",
   "execution_count": null,
   "metadata": {},
   "outputs": [],
   "source": [
    "d = {}"
   ]
  },
  {
   "cell_type": "code",
   "execution_count": 9,
   "metadata": {},
   "outputs": [
    {
     "data": {
      "text/plain": [
       "True"
      ]
     },
     "execution_count": 9,
     "metadata": {},
     "output_type": "execute_result"
    }
   ],
   "source": [
    "d['name'] = 'Dan'\n",
    "d['name2'] = 'Daniel'\n",
    "\"name\" in d"
   ]
  },
  {
   "cell_type": "code",
   "execution_count": 10,
   "metadata": {},
   "outputs": [
    {
     "data": {
      "text/plain": [
       "['master', 9, True]"
      ]
     },
     "execution_count": 10,
     "metadata": {},
     "output_type": "execute_result"
    }
   ],
   "source": [
    "d['database']  #You can get values by key, but you can’t get keys by value"
   ]
  },
  {
   "cell_type": "code",
   "execution_count": 11,
   "metadata": {},
   "outputs": [
    {
     "data": {
      "text/plain": [
       "{'server': 15,\n",
       " 'database': ['master', 9, True],\n",
       " 'name': 'Dan',\n",
       " 'name2': 'Daniel'}"
      ]
     },
     "execution_count": 11,
     "metadata": {},
     "output_type": "execute_result"
    }
   ],
   "source": [
    "d[\"server\"] = 15\n",
    "d"
   ]
  },
  {
   "cell_type": "code",
   "execution_count": 12,
   "metadata": {},
   "outputs": [
    {
     "name": "stdout",
     "output_type": "stream",
     "text": [
      "{'server': 15, 'database': ['master', 9, True], 'name': 'Dan', 'name2': 'Daniel', 'client': 20, 0: 'dan'}\n"
     ]
    }
   ],
   "source": [
    "d[\"client\"] = 20\n",
    "d[0] = 'dan'\n",
    "print(d)"
   ]
  },
  {
   "cell_type": "code",
   "execution_count": 13,
   "metadata": {},
   "outputs": [
    {
     "name": "stdout",
     "output_type": "stream",
     "text": [
      "{'server': 15, 'database': ['master', 9, True], 'name': 'Dan', 'name2': 'Daniel', 'client': 20, 0: 'dan', 'peter': {1: 'One'}}\n"
     ]
    }
   ],
   "source": [
    "d[\"peter\"] = {1: 'One'}\n",
    "print(d)"
   ]
  },
  {
   "cell_type": "code",
   "execution_count": 14,
   "metadata": {},
   "outputs": [
    {
     "data": {
      "text/plain": [
       "['__class__',\n",
       " '__contains__',\n",
       " '__delattr__',\n",
       " '__delitem__',\n",
       " '__dir__',\n",
       " '__doc__',\n",
       " '__eq__',\n",
       " '__format__',\n",
       " '__ge__',\n",
       " '__getattribute__',\n",
       " '__getitem__',\n",
       " '__gt__',\n",
       " '__hash__',\n",
       " '__init__',\n",
       " '__init_subclass__',\n",
       " '__iter__',\n",
       " '__le__',\n",
       " '__len__',\n",
       " '__lt__',\n",
       " '__ne__',\n",
       " '__new__',\n",
       " '__reduce__',\n",
       " '__reduce_ex__',\n",
       " '__repr__',\n",
       " '__setattr__',\n",
       " '__setitem__',\n",
       " '__sizeof__',\n",
       " '__str__',\n",
       " '__subclasshook__',\n",
       " 'clear',\n",
       " 'copy',\n",
       " 'fromkeys',\n",
       " 'get',\n",
       " 'items',\n",
       " 'keys',\n",
       " 'pop',\n",
       " 'popitem',\n",
       " 'setdefault',\n",
       " 'update',\n",
       " 'values']"
      ]
     },
     "execution_count": 14,
     "metadata": {},
     "output_type": "execute_result"
    }
   ],
   "source": [
    "dir(d)"
   ]
  },
  {
   "cell_type": "code",
   "execution_count": 15,
   "metadata": {},
   "outputs": [
    {
     "name": "stdout",
     "output_type": "stream",
     "text": [
      "dict_keys(['server', 'database', 'name', 'name2', 'client', 0, 'peter'])\n",
      "dict_values([15, ['master', 9, True], 'Dan', 'Daniel', 20, 'dan', {1: 'One'}])\n"
     ]
    }
   ],
   "source": [
    "a = d.keys()\n",
    "print(a)\n",
    "b = d.values()\n",
    "print(b)"
   ]
  },
  {
   "cell_type": "markdown",
   "metadata": {},
   "source": [
    "## 2.for statement, while statement, if else statement"
   ]
  },
  {
   "cell_type": "code",
   "execution_count": null,
   "metadata": {},
   "outputs": [],
   "source": [
    "if condition1:\n",
    "    body1\n",
    "else:\n",
    "    body2\n",
    "go on"
   ]
  },
  {
   "cell_type": "code",
   "execution_count": null,
   "metadata": {},
   "outputs": [],
   "source": [
    "# pseudo code\n",
    "if condition1:\n",
    "    body1\n",
    "elif condition2:\n",
    "    body2\n",
    "elif conditionsss:\n",
    "    bodys\n",
    "else:\n",
    "    body3\n",
    "out_of_statement"
   ]
  },
  {
   "cell_type": "code",
   "execution_count": 16,
   "metadata": {},
   "outputs": [
    {
     "name": "stdout",
     "output_type": "stream",
     "text": [
      "done!\n"
     ]
    }
   ],
   "source": [
    "x = 100\n",
    "# simple if statement\n",
    "# each control line must end with colon (:) \n",
    "if False:   \n",
    "    # each line in the block should be \n",
    "    # indented with the same amount                                  \n",
    "    print (\"the value of x >= 50\")   \n",
    "print(\"done!\")\n"
   ]
  },
  {
   "cell_type": "code",
   "execution_count": 17,
   "metadata": {},
   "outputs": [
    {
     "name": "stdout",
     "output_type": "stream",
     "text": [
      "the value of x < 200\n"
     ]
    }
   ],
   "source": [
    "# if...else statement\n",
    "if x>=200:\n",
    "    print (\"the value of x >= 200\")\n",
    "else:\n",
    "    print (\"the value of x < 200\")"
   ]
  },
  {
   "cell_type": "code",
   "execution_count": 18,
   "metadata": {},
   "outputs": [
    {
     "name": "stdout",
     "output_type": "stream",
     "text": [
      "the value of x >= 50 and <200\n"
     ]
    }
   ],
   "source": [
    "# if...elif...else statement\n",
    "if 0:\n",
    "    print (\"the value of x >= 200\")\n",
    "elif x>=50:\n",
    "    print (\"the value of x >= 50 and <200\")\n",
    "else:\n",
    "    print (\"the value of x < 50\")"
   ]
  },
  {
   "cell_type": "code",
   "execution_count": 19,
   "metadata": {},
   "outputs": [
    {
     "name": "stdout",
     "output_type": "stream",
     "text": [
      "the value of x >= 200 and x<y\n"
     ]
    }
   ],
   "source": [
    "# nested statements\n",
    "x=300\n",
    "y=500\n",
    "if x>=200:  \n",
    "    # inner \"if\" and \"else\" need to indent the same amount\n",
    "    if x>=y:              \n",
    "        if x == 0:\n",
    "            print ('hellp')     \n",
    "        else:\n",
    "            print (\"the value of x >= 200 and x>=y\")\n",
    "    else:\n",
    "        print (\"the value of x >= 200 and x<y\")\n",
    "else:\n",
    "    print (\"the value of x < 200\")"
   ]
  },
  {
   "cell_type": "code",
   "execution_count": 20,
   "metadata": {},
   "outputs": [],
   "source": [
    "#practice \n",
    "word_count_dict={\"hello\":2,\"FE\":3, \"iphone\":2, 'FE1':1}\n",
    "new_word=\"FE2\"\n"
   ]
  },
  {
   "cell_type": "code",
   "execution_count": 22,
   "metadata": {},
   "outputs": [
    {
     "data": {
      "text/plain": [
       "{'hello': 2, 'FE': 3, 'iphone': 2, 'FE1': 1, 'FE2': 2}"
      ]
     },
     "execution_count": 22,
     "metadata": {},
     "output_type": "execute_result"
    }
   ],
   "source": [
    "if new_word in word_count_dict:\n",
    "    word_count_dict[new_word] = word_count_dict[new_word] + 1\n",
    "else:\n",
    "    word_count_dict[new_word] = 1\n",
    "word_count_dict"
   ]
  },
  {
   "cell_type": "code",
   "execution_count": null,
   "metadata": {},
   "outputs": [],
   "source": [
    "# pseudo code\n",
    "for varible in iterator/generator:\n",
    "    body\n",
    "\n",
    "out_of_statement"
   ]
  },
  {
   "cell_type": "code",
   "execution_count": 23,
   "metadata": {},
   "outputs": [
    {
     "name": "stdout",
     "output_type": "stream",
     "text": [
      "hello\n",
      "hello\n",
      "hello\n",
      "hello\n",
      "hello\n"
     ]
    }
   ],
   "source": [
    "for item in [1,2,3,4,5]:\n",
    "    print ('hello')\n",
    "    "
   ]
  },
  {
   "cell_type": "code",
   "execution_count": 24,
   "metadata": {},
   "outputs": [
    {
     "data": {
      "text/plain": [
       "[0,\n",
       " 1,\n",
       " 2,\n",
       " 3,\n",
       " 4,\n",
       " 5,\n",
       " 6,\n",
       " 7,\n",
       " 8,\n",
       " 9,\n",
       " 10,\n",
       " 11,\n",
       " 12,\n",
       " 13,\n",
       " 14,\n",
       " 15,\n",
       " 16,\n",
       " 17,\n",
       " 18,\n",
       " 19,\n",
       " 20,\n",
       " 21,\n",
       " 22,\n",
       " 23,\n",
       " 24,\n",
       " 25,\n",
       " 26,\n",
       " 27,\n",
       " 28,\n",
       " 29,\n",
       " 30,\n",
       " 31,\n",
       " 32,\n",
       " 33,\n",
       " 34,\n",
       " 35,\n",
       " 36,\n",
       " 37,\n",
       " 38,\n",
       " 39,\n",
       " 40,\n",
       " 41,\n",
       " 42,\n",
       " 43,\n",
       " 44,\n",
       " 45,\n",
       " 46,\n",
       " 47,\n",
       " 48,\n",
       " 49,\n",
       " 50,\n",
       " 51,\n",
       " 52,\n",
       " 53,\n",
       " 54,\n",
       " 55,\n",
       " 56,\n",
       " 57,\n",
       " 58,\n",
       " 59,\n",
       " 60,\n",
       " 61,\n",
       " 62,\n",
       " 63,\n",
       " 64,\n",
       " 65,\n",
       " 66,\n",
       " 67,\n",
       " 68,\n",
       " 69,\n",
       " 70,\n",
       " 71,\n",
       " 72,\n",
       " 73,\n",
       " 74,\n",
       " 75,\n",
       " 76,\n",
       " 77,\n",
       " 78,\n",
       " 79,\n",
       " 80,\n",
       " 81,\n",
       " 82,\n",
       " 83,\n",
       " 84,\n",
       " 85,\n",
       " 86,\n",
       " 87,\n",
       " 88,\n",
       " 89,\n",
       " 90,\n",
       " 91,\n",
       " 92,\n",
       " 93,\n",
       " 94,\n",
       " 95,\n",
       " 96,\n",
       " 97,\n",
       " 98,\n",
       " 99,\n",
       " 100]"
      ]
     },
     "execution_count": 24,
     "metadata": {},
     "output_type": "execute_result"
    }
   ],
   "source": [
    "list(range(101))"
   ]
  },
  {
   "cell_type": "code",
   "execution_count": null,
   "metadata": {},
   "outputs": [],
   "source": [
    "s = 0\n",
    "for i in range(101):\n",
    "    s += i\n",
    "    print(i)\n",
    "print(s)"
   ]
  },
  {
   "cell_type": "code",
   "execution_count": null,
   "metadata": {},
   "outputs": [],
   "source": [
    "d = {'a': 100, 'b': 200, 'c': 300}\n",
    "for i in d:\n",
    "    print(d[i])"
   ]
  },
  {
   "cell_type": "code",
   "execution_count": null,
   "metadata": {},
   "outputs": [],
   "source": [
    "# pseudo code\n",
    "while condition:\n",
    "    body\n",
    "\n",
    "out_of_statement"
   ]
  },
  {
   "cell_type": "code",
   "execution_count": 25,
   "metadata": {},
   "outputs": [
    {
     "name": "stdout",
     "output_type": "stream",
     "text": [
      "0\n",
      "1\n",
      "2\n",
      "3\n",
      "4\n",
      "5\n",
      "6\n",
      "7\n",
      "8\n",
      "9\n",
      "out: 10\n"
     ]
    }
   ],
   "source": [
    "i = 0\n",
    "while i<10:\n",
    "    print(i)\n",
    "    i += 1\n",
    "print ('out:', i)"
   ]
  },
  {
   "cell_type": "code",
   "execution_count": 30,
   "metadata": {},
   "outputs": [
    {
     "name": "stdout",
     "output_type": "stream",
     "text": [
      "0 1 500 1\n",
      "1 2 500 4\n",
      "2 3 500 9\n",
      "3 4 500 16\n",
      "4 5 500 25\n"
     ]
    }
   ],
   "source": [
    "# initiate an empty list\n",
    "list1=[]  \n",
    "\n",
    "# loop through any iterable object, e.g. \n",
    "# list, tuple, set, dictionary\n",
    "for idx,x in enumerate(range(1,6)):    \n",
    "    # append x**2 to the list\n",
    "    print(idx,x*x)\n"
   ]
  },
  {
   "cell_type": "code",
   "execution_count": 31,
   "metadata": {},
   "outputs": [
    {
     "name": "stdout",
     "output_type": "stream",
     "text": [
      "Square of each element in [1:6]: [1, 4, 9, 16, 25]\n"
     ]
    }
   ],
   "source": [
    "# A compact ways to use for loop in assigment\n",
    "list1=[x*x for x in range(1,6)]\n",
    "print (\"Square of each element in [1:6]:\", list1)"
   ]
  },
  {
   "cell_type": "code",
   "execution_count": 33,
   "metadata": {},
   "outputs": [
    {
     "name": "stdout",
     "output_type": "stream",
     "text": [
      "[(1, 6), (2, 10), (3, 4), (4, 8), (5, 2)]\n"
     ]
    }
   ],
   "source": [
    "# Get index of each element during loop\n",
    "\n",
    "list1=[3,5,2,4,1]\n",
    "\n",
    "# enumerate(list1) converts a sequence to an iterator \n",
    "# which returns a tuple at a time\n",
    "# starting from (0, list1[0]), (1, list1[1]), ... to the end\n",
    "# where 0,1, .. is the index if each element in list1\n",
    "\n",
    "list2=[(idx+1,x*2) for idx,x in enumerate(list1) ]  \n",
    "print(list2)\n",
    "\n",
    "# Questions: \n",
    "# 1. how to show indexes starting from 1, not 0?\n",
    "# 2. how to get squared value of elements along with index "
   ]
  },
  {
   "cell_type": "code",
   "execution_count": 34,
   "metadata": {},
   "outputs": [
    {
     "name": "stdout",
     "output_type": "stream",
     "text": [
      "index and value of each element in the list as a new list of tuple :\n",
      " [[0, 3], [1, 5], [2, 2], [3, 4], [4, 1]]\n"
     ]
    }
   ],
   "source": [
    "# Another way: only one variable item is used \n",
    "list2=[[item[0],item[1]] for item in enumerate(list1)]  \n",
    "print(\"index and value of each element \\\n",
    "in the list as a new list of tuple :\\n\", list2)"
   ]
  },
  {
   "cell_type": "code",
   "execution_count": 36,
   "metadata": {},
   "outputs": [
    {
     "name": "stdout",
     "output_type": "stream",
     "text": [
      "\n",
      "get each **positive** element and its index in the list as a list of tuple\n",
      "[(1, 5), (3, 3), (5, 12), (7, 8)]\n"
     ]
    }
   ],
   "source": [
    "# Cobmine for loop with if statement\n",
    "\n",
    "list3=[(idx,x) for idx,x in enumerate([-2,5,-9,3,-4,12,1,8]) if x > 2]\n",
    "\n",
    "print(\"\\nget each **positive** element and its index \\\n",
    "in the list as a list of tuple\")\n",
    "print (list3)\n",
    "\n",
    "# Questions:\n",
    "# 1. how to get elements if their indexs > 2 ; \n",
    "# 2. how to get elements with even indexes?"
   ]
  },
  {
   "cell_type": "code",
   "execution_count": 37,
   "metadata": {},
   "outputs": [],
   "source": [
    "list1=[1, 2, 3, 5, 10, 1, 4, 1, 11, 20, 50, 100]\n",
    "\n",
    "# get the count of each number as a dictionary\n",
    "counts={1:3, 2:1, 3:1, 4:1}"
   ]
  },
  {
   "cell_type": "code",
   "execution_count": 38,
   "metadata": {},
   "outputs": [
    {
     "data": {
      "text/plain": [
       "{1: 3, 2: 1, 3: 1, 5: 1, 10: 1, 4: 1, 11: 1, 20: 1, 50: 1, 100: 1}"
      ]
     },
     "execution_count": 38,
     "metadata": {},
     "output_type": "execute_result"
    }
   ],
   "source": [
    "counts = {}\n",
    "for new_word in list1:\n",
    "    if new_word in counts:\n",
    "        counts[new_word] = counts[new_word] + 1\n",
    "    else:\n",
    "        counts[new_word] = 1\n",
    "counts"
   ]
  },
  {
   "cell_type": "code",
   "execution_count": 39,
   "metadata": {},
   "outputs": [
    {
     "name": "stdout",
     "output_type": "stream",
     "text": [
      "{1: 6, 2: 2, 3: 2, 5: 2, 10: 2, 4: 2, 11: 2, 20: 2, 50: 2, 100: 2}\n"
     ]
    }
   ],
   "source": [
    "# Use loop to create a dictionary\n",
    "\n",
    "\n",
    "for item in list1:\n",
    "    if item in counts:\n",
    "        counts[item] += 1\n",
    "    else:\n",
    "        counts[item] = 1\n",
    "print (counts)\n",
    "\n",
    "\n",
    "# any compact way to achieve this?"
   ]
  },
  {
   "cell_type": "code",
   "execution_count": 40,
   "metadata": {},
   "outputs": [
    {
     "data": {
      "text/plain": [
       "{1: 3, 2: 1, 3: 1, 5: 1, 10: 1, 4: 1, 11: 1, 20: 1, 50: 1, 100: 1}"
      ]
     },
     "execution_count": 40,
     "metadata": {},
     "output_type": "execute_result"
    }
   ],
   "source": [
    "dict((item, list1.count(item)) for item in (list1))"
   ]
  },
  {
   "cell_type": "code",
   "execution_count": 41,
   "metadata": {},
   "outputs": [
    {
     "name": "stdout",
     "output_type": "stream",
     "text": [
      "\n",
      "nested loops\n",
      "1.2\n",
      "3.5\n",
      "2.4\n",
      "7.0\n",
      "[1.2, 3.5, 2.4, 7.0]\n"
     ]
    }
   ],
   "source": [
    "# nested loops\n",
    "\n",
    "print(\"\\nnested loops\")\n",
    "for x in range(1,3):    \n",
    "    for y in [1.2, 3.5]:\n",
    "        print (x*y)\n",
    "\n",
    "# a compact way to nest loops\n",
    "xy=[x*y for x in range(1,3) for y in [1.2, 3.5]]    \n",
    "\n",
    "print (xy)"
   ]
  },
  {
   "cell_type": "markdown",
   "metadata": {},
   "source": [
    "#### Keywords: break & continue \n",
    "* __break__ will break the current loop\n",
    "* __continue__ will skip the rest of loop body."
   ]
  },
  {
   "cell_type": "code",
   "execution_count": null,
   "metadata": {},
   "outputs": [],
   "source": [
    "for i in range(10):\n",
    "    for ii in range (11):\n",
    "        print (ii)\n",
    "        if ii > 5:\n",
    "            break\n",
    "            \n",
    "    "
   ]
  },
  {
   "cell_type": "code",
   "execution_count": null,
   "metadata": {},
   "outputs": [],
   "source": [
    "i = 0\n",
    "while True:\n",
    "    print(i)\n",
    "    i += 1\n",
    "    \n",
    "    if i > 10:\n",
    "        break\n",
    "        \n",
    "print('loop finished. i is %s'% i)"
   ]
  },
  {
   "cell_type": "code",
   "execution_count": null,
   "metadata": {},
   "outputs": [],
   "source": [
    "i = 0\n",
    "while i <10:\n",
    "    i += 1\n",
    "    if i > 5:\n",
    "        continue \n",
    "    print(i)\n",
    "    \n",
    "print('loop finished. i is %s'% i)"
   ]
  },
  {
   "cell_type": "markdown",
   "metadata": {},
   "source": [
    "## 3. Define functions\n",
    "* Using keyword 'def' to define a function , the format looks like this:\n",
    "* parameters have to be inside the ()\n",
    "* Put explanation in the first line of function\n",
    "* start as :, and indentation\n",
    "* Return for the end of function, return None if we don't have return\n"
   ]
  },
  {
   "cell_type": "code",
   "execution_count": 42,
   "metadata": {},
   "outputs": [
    {
     "name": "stdout",
     "output_type": "stream",
     "text": [
      "0 1\n",
      "x0\n"
     ]
    }
   ],
   "source": [
    "def hi(x,y):\n",
    "    '''\n",
    "    this is test, \n",
    "    x is int, y is str, out is list\n",
    "    '''\n",
    "    print (x, y)\n",
    "    if x == 0:\n",
    "        print('x0')\n",
    "hi(0,1)"
   ]
  },
  {
   "cell_type": "code",
   "execution_count": 43,
   "metadata": {},
   "outputs": [
    {
     "name": "stdout",
     "output_type": "stream",
     "text": [
      "10 hi\n"
     ]
    }
   ],
   "source": [
    "out = hi(10, 'hi')\n",
    "out"
   ]
  },
  {
   "cell_type": "code",
   "execution_count": 44,
   "metadata": {},
   "outputs": [
    {
     "name": "stdout",
     "output_type": "stream",
     "text": [
      "Hello David\n",
      "Hello Iris\n",
      "Hello Dan\n"
     ]
    }
   ],
   "source": [
    "print('Hello David')\n",
    "print('Hello Iris')\n",
    "\n",
    "def hello(name):\n",
    "    print('Hello %s'% name)\n",
    "    \n",
    "hello('Dan')"
   ]
  },
  {
   "cell_type": "code",
   "execution_count": 45,
   "metadata": {},
   "outputs": [
    {
     "name": "stdout",
     "output_type": "stream",
     "text": [
      "1\n",
      "20\n",
      "1\n",
      "6\n"
     ]
    }
   ],
   "source": [
    "def myFunctionName(arg1, arg2, arg3 = 10):\n",
    "    print(arg1)\n",
    "    return arg2*arg3    \n",
    "\n",
    "print(myFunctionName(1,2))\n",
    "print(myFunctionName(1,2,3))"
   ]
  },
  {
   "cell_type": "code",
   "execution_count": 47,
   "metadata": {},
   "outputs": [],
   "source": [
    "def SumOfList(ls):\n",
    "    s = 0\n",
    "    for ele in ls:\n",
    "        s += ele\n",
    "    print (s)\n",
    "    return str(s)"
   ]
  },
  {
   "cell_type": "code",
   "execution_count": 48,
   "metadata": {},
   "outputs": [
    {
     "name": "stdout",
     "output_type": "stream",
     "text": [
      "15\n"
     ]
    },
    {
     "data": {
      "text/plain": [
       "'15'"
      ]
     },
     "execution_count": 48,
     "metadata": {},
     "output_type": "execute_result"
    }
   ],
   "source": [
    "out = SumOfList([1,2,3,4,5])\n",
    "out"
   ]
  },
  {
   "cell_type": "code",
   "execution_count": 54,
   "metadata": {},
   "outputs": [
    {
     "name": "stdout",
     "output_type": "stream",
     "text": [
      "test list:  [0, 1, 2, 3, 4]\n",
      "Reversed List:  ([4, 3, 2, 1, 0], 5)\n"
     ]
    }
   ],
   "source": [
    "def reverseList(ls):\n",
    "    \n",
    "    return ls[::-1], len(ls)\n",
    "test_list = range(5)\n",
    "print(\"test list: \",list(test_list))\n",
    "\n",
    "new_list = reverseList(list(test_list))\n",
    "print(\"Reversed List: \", new_list)"
   ]
  },
  {
   "cell_type": "code",
   "execution_count": 58,
   "metadata": {},
   "outputs": [],
   "source": [
    "# Exercise : Define a function to\n",
    "# remove all occurrences of a value from a list \n",
    "# Requirements:\n",
    "# 1. two input parameters, a list and a value\n",
    "# 2. return a list that does not contain the value\n",
    "#    e.g. if inputs are [1,3,2,2] and 2, the return\n",
    "#    should be [1,3]\n",
    "\n",
    "def remove_all(aList, v):\n",
    "    # add your code\n",
    "    for x in aList:\n",
    "        if x == v:\n",
    "            aList.remove(v)\n",
    "    return aList\n",
    "    \n",
    "    "
   ]
  },
  {
   "cell_type": "code",
   "execution_count": 59,
   "metadata": {},
   "outputs": [
    {
     "name": "stdout",
     "output_type": "stream",
     "text": [
      "remove 2:  [1, 3, 2]\n"
     ]
    }
   ],
   "source": [
    "L=[1,3,2,2]\n",
    "print(\"remove 2: \", remove_all(L,2))"
   ]
  },
  {
   "cell_type": "code",
   "execution_count": 61,
   "metadata": {},
   "outputs": [
    {
     "name": "stdout",
     "output_type": "stream",
     "text": [
      "[1, 3, 2, 2]\n",
      "remove 3:  [1, 2, 2]\n",
      "[1, 3, 2, 2]\n",
      "remove 2:  [1, 3]\n"
     ]
    }
   ],
   "source": [
    "def remove_all(aList, v):\n",
    "    bList = aList.copy()\n",
    "    print(bList)\n",
    "    for x in aList:       \n",
    "        if x==v:\n",
    "            bList.remove(v)\n",
    "        #print(aList)\n",
    "    return bList\n",
    "\n",
    "# try this:\n",
    "L=[1,3,2,2]\n",
    "print(\"remove 3: \", remove_all(L,3))\n",
    "\n",
    "L=[1,3,2,2]\n",
    "print(\"remove 2: \", remove_all(L,2)) #why?"
   ]
  },
  {
   "cell_type": "code",
   "execution_count": null,
   "metadata": {},
   "outputs": [],
   "source": []
  }
 ],
 "metadata": {
  "kernelspec": {
   "display_name": "Python 3",
   "language": "python",
   "name": "python3"
  },
  "language_info": {
   "codemirror_mode": {
    "name": "ipython",
    "version": 3
   },
   "file_extension": ".py",
   "mimetype": "text/x-python",
   "name": "python",
   "nbconvert_exporter": "python",
   "pygments_lexer": "ipython3",
   "version": "3.7.1"
  }
 },
 "nbformat": 4,
 "nbformat_minor": 2
}
