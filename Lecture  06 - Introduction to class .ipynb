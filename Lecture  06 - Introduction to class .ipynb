{
 "cells": [
  {
   "cell_type": "markdown",
   "metadata": {},
   "source": [
    "## 1. Intro to Class (Object-oriented Programming)\n",
    "some parts of code come from www.py4e.com"
   ]
  },
  {
   "cell_type": "code",
   "execution_count": 3,
   "metadata": {},
   "outputs": [
    {
     "name": "stdout",
     "output_type": "stream",
     "text": [
      "<class 'str'>\n"
     ]
    }
   ],
   "source": [
    "x = 'abc'\n",
    "print(type(x))\n"
   ]
  },
  {
   "cell_type": "code",
   "execution_count": 4,
   "metadata": {
    "collapsed": true
   },
   "outputs": [
    {
     "data": {
      "text/plain": [
       "['__add__',\n",
       " '__class__',\n",
       " '__contains__',\n",
       " '__delattr__',\n",
       " '__dir__',\n",
       " '__doc__',\n",
       " '__eq__',\n",
       " '__format__',\n",
       " '__ge__',\n",
       " '__getattribute__',\n",
       " '__getitem__',\n",
       " '__getnewargs__',\n",
       " '__gt__',\n",
       " '__hash__',\n",
       " '__init__',\n",
       " '__init_subclass__',\n",
       " '__iter__',\n",
       " '__le__',\n",
       " '__len__',\n",
       " '__lt__',\n",
       " '__mod__',\n",
       " '__mul__',\n",
       " '__ne__',\n",
       " '__new__',\n",
       " '__reduce__',\n",
       " '__reduce_ex__',\n",
       " '__repr__',\n",
       " '__rmod__',\n",
       " '__rmul__',\n",
       " '__setattr__',\n",
       " '__sizeof__',\n",
       " '__str__',\n",
       " '__subclasshook__',\n",
       " 'capitalize',\n",
       " 'casefold',\n",
       " 'center',\n",
       " 'count',\n",
       " 'encode',\n",
       " 'endswith',\n",
       " 'expandtabs',\n",
       " 'find',\n",
       " 'format',\n",
       " 'format_map',\n",
       " 'index',\n",
       " 'isalnum',\n",
       " 'isalpha',\n",
       " 'isdecimal',\n",
       " 'isdigit',\n",
       " 'isidentifier',\n",
       " 'islower',\n",
       " 'isnumeric',\n",
       " 'isprintable',\n",
       " 'isspace',\n",
       " 'istitle',\n",
       " 'isupper',\n",
       " 'join',\n",
       " 'ljust',\n",
       " 'lower',\n",
       " 'lstrip',\n",
       " 'maketrans',\n",
       " 'partition',\n",
       " 'replace',\n",
       " 'rfind',\n",
       " 'rindex',\n",
       " 'rjust',\n",
       " 'rpartition',\n",
       " 'rsplit',\n",
       " 'rstrip',\n",
       " 'split',\n",
       " 'splitlines',\n",
       " 'startswith',\n",
       " 'strip',\n",
       " 'swapcase',\n",
       " 'title',\n",
       " 'translate',\n",
       " 'upper',\n",
       " 'zfill']"
      ]
     },
     "execution_count": 4,
     "metadata": {},
     "output_type": "execute_result"
    }
   ],
   "source": [
    "dir(x)"
   ]
  },
  {
   "cell_type": "code",
   "execution_count": 5,
   "metadata": {},
   "outputs": [
    {
     "name": "stdout",
     "output_type": "stream",
     "text": [
      "<class 'list'>\n"
     ]
    }
   ],
   "source": [
    "y = list()\n",
    "print(type(y))"
   ]
  },
  {
   "cell_type": "code",
   "execution_count": 6,
   "metadata": {},
   "outputs": [
    {
     "data": {
      "text/plain": [
       "['__add__',\n",
       " '__class__',\n",
       " '__contains__',\n",
       " '__delattr__',\n",
       " '__delitem__',\n",
       " '__dir__',\n",
       " '__doc__',\n",
       " '__eq__',\n",
       " '__format__',\n",
       " '__ge__',\n",
       " '__getattribute__',\n",
       " '__getitem__',\n",
       " '__gt__',\n",
       " '__hash__',\n",
       " '__iadd__',\n",
       " '__imul__',\n",
       " '__init__',\n",
       " '__init_subclass__',\n",
       " '__iter__',\n",
       " '__le__',\n",
       " '__len__',\n",
       " '__lt__',\n",
       " '__mul__',\n",
       " '__ne__',\n",
       " '__new__',\n",
       " '__reduce__',\n",
       " '__reduce_ex__',\n",
       " '__repr__',\n",
       " '__reversed__',\n",
       " '__rmul__',\n",
       " '__setattr__',\n",
       " '__setitem__',\n",
       " '__sizeof__',\n",
       " '__str__',\n",
       " '__subclasshook__',\n",
       " 'append',\n",
       " 'clear',\n",
       " 'copy',\n",
       " 'count',\n",
       " 'extend',\n",
       " 'index',\n",
       " 'insert',\n",
       " 'pop',\n",
       " 'remove',\n",
       " 'reverse',\n",
       " 'sort']"
      ]
     },
     "execution_count": 6,
     "metadata": {},
     "output_type": "execute_result"
    }
   ],
   "source": [
    "dir(y)"
   ]
  },
  {
   "cell_type": "markdown",
   "metadata": {},
   "source": [
    "### 1.1. Class and instance\n",
    "* Class is abstract, it will describe one kind of concrete things, like human. it includes the thing's characteristics (its attributes, fields or properties) and the thing's behaviors (the things it can do, or methods, operations or features).\n",
    "* Instance is concrete, like one specific person.\n",
    "* Method is function in the class.\n",
    "* Attributes are the variables"
   ]
  },
  {
   "cell_type": "markdown",
   "metadata": {},
   "source": [
    "### 1.2. What could we gain from class\n",
    "* Code re-usage.\n",
    "* Seperating your program into several blocks, then assemble them together like playing Lego.\n",
    "* Easier to debug.\n",
    "* It can aggregate functions closely related to central data.\n",
    "* An example: pricing options by Monte-Carlo method."
   ]
  },
  {
   "cell_type": "markdown",
   "metadata": {},
   "source": [
    "### 1.3. Class object"
   ]
  },
  {
   "cell_type": "code",
   "execution_count": 7,
   "metadata": {},
   "outputs": [],
   "source": [
    "# Class definition syntax\n",
    "'''\n",
    "class ClassName:\n",
    "    <statement-1>\n",
    "    .\n",
    "    .\n",
    "    .\n",
    "    <statement-N>\n",
    "'''\n",
    "\n",
    "# A simple example:\n",
    "\n",
    "class PartyAnimal:\n",
    "    x = 0\n",
    "    def party(self) :\n",
    "        self.x = self.x + 1\n",
    "        print(\"So far\",self.x)\n"
   ]
  },
  {
   "cell_type": "markdown",
   "metadata": {},
   "source": [
    "* Class objects support two kinds of operations: attribute references and instantiation.\n",
    "* The methods have a special first parameter that we name by convention self.\n",
    "* Just as the def keyword does not cause function code to be executed, the class keyword does not create an object. Instead, the class keyword defines a template indicating what data and code will be contained in each object of type PartyAnimal. "
   ]
  },
  {
   "cell_type": "code",
   "execution_count": 12,
   "metadata": {},
   "outputs": [
    {
     "data": {
      "text/plain": [
       "0"
      ]
     },
     "execution_count": 12,
     "metadata": {},
     "output_type": "execute_result"
    }
   ],
   "source": [
    "an = PartyAnimal()\n",
    "an.x"
   ]
  },
  {
   "cell_type": "code",
   "execution_count": 15,
   "metadata": {},
   "outputs": [
    {
     "name": "stdout",
     "output_type": "stream",
     "text": [
      "So far 2\n"
     ]
    }
   ],
   "source": [
    "an.party()"
   ]
  },
  {
   "cell_type": "code",
   "execution_count": 16,
   "metadata": {},
   "outputs": [
    {
     "data": {
      "text/plain": [
       "2"
      ]
     },
     "execution_count": 16,
     "metadata": {},
     "output_type": "execute_result"
    }
   ],
   "source": [
    "an.x"
   ]
  },
  {
   "cell_type": "code",
   "execution_count": 17,
   "metadata": {},
   "outputs": [
    {
     "name": "stdout",
     "output_type": "stream",
     "text": [
      "So far 3\n",
      "So far 4\n"
     ]
    }
   ],
   "source": [
    " #Construct a PartyAnimal object and store in an\n",
    "an.party()\n",
    "an.party()"
   ]
  },
  {
   "cell_type": "code",
   "execution_count": null,
   "metadata": {},
   "outputs": [],
   "source": [
    "dir(an)"
   ]
  },
  {
   "cell_type": "markdown",
   "metadata": {},
   "source": [
    "* When a class defines an \\_\\_init\\_\\_() method, class instantiation automatically invokes \\_\\_init\\_\\_() for the newly-created class instance.\n",
    "* Arguments given to the class instantiation operator are passed on to \\_\\_init\\_\\_()."
   ]
  },
  {
   "cell_type": "markdown",
   "metadata": {},
   "source": [
    "### 1.4. Instance object"
   ]
  },
  {
   "cell_type": "markdown",
   "metadata": {},
   "source": [
    "* The only operations understood by instance objects are attribute references.\n",
    "* There are two kinds of valid attribute names, data attributes and methods."
   ]
  },
  {
   "cell_type": "code",
   "execution_count": 22,
   "metadata": {},
   "outputs": [],
   "source": [
    "# A simple example:\n",
    "\n",
    "class PartyAnimal:\n",
    "    x = 0\n",
    "    def __init__(self):\n",
    "        print (self.x)\n",
    "        print('I am constructed')\n",
    "        \n",
    "    def party(self) :\n",
    "        self.x = self.x + 1\n",
    "        print('So far',self.x)\n",
    "        \n",
    "    def party1(self) :\n",
    "        self.x = self.x + 1\n",
    "        print('So far',self.x)    \n",
    "\n",
    "    def __del__(self):\n",
    "        print('I am destructed', self.x)"
   ]
  },
  {
   "cell_type": "code",
   "execution_count": 23,
   "metadata": {},
   "outputs": [
    {
     "name": "stdout",
     "output_type": "stream",
     "text": [
      "I am destructed 4\n",
      "0\n",
      "I am constructed\n"
     ]
    }
   ],
   "source": [
    "an = 0\n",
    "an = PartyAnimal()"
   ]
  },
  {
   "cell_type": "code",
   "execution_count": 24,
   "metadata": {},
   "outputs": [
    {
     "name": "stdout",
     "output_type": "stream",
     "text": [
      "So far 1\n",
      "So far 2\n"
     ]
    }
   ],
   "source": [
    "an.party()\n",
    "an.party1()"
   ]
  },
  {
   "cell_type": "code",
   "execution_count": 25,
   "metadata": {},
   "outputs": [
    {
     "name": "stdout",
     "output_type": "stream",
     "text": [
      "I am destructed 2\n",
      "an contains 42\n"
     ]
    }
   ],
   "source": [
    "an = 42\n",
    "print('an contains',an)"
   ]
  },
  {
   "cell_type": "markdown",
   "metadata": {},
   "source": [
    "* Constructing a instance by using the class name. Class instantiation uses function notation. Arguments will passed to \\_\\_init\\_\\_() method.\n",
    "* We call functions defined within a class as method or attribute. Compared with regular functions, the first argument is reserved. <code>self</code> doesn't have special meaning here, you can replace it as what ever you want. But setting it as self will help other's understand your code.\n",
    "* For C++ user, <code>self</code> works like <code>this</code> pointer, it is an instance of this class.\n",
    "* \\_\\_init\\_\\_() method will be called when instance is created, .\n",
    "* Some default protected methods can be specified such as operators (including Python pre-defined functions). Find more information here: https://docs.python.org/3.7/reference/datamodel.html\n",
    "* Use dot(.) to call instance methods or data attributes."
   ]
  },
  {
   "cell_type": "code",
   "execution_count": 27,
   "metadata": {},
   "outputs": [
    {
     "name": "stdout",
     "output_type": "stream",
     "text": [
      "Sally constructed\n",
      "Jim constructed\n"
     ]
    }
   ],
   "source": [
    "class PartyAnimal:\n",
    "    x = 0\n",
    "    name = ''\n",
    "    def __init__(self, nam):\n",
    "        self.name = nam\n",
    "        print(self.name,'constructed')\n",
    "\n",
    "    def party(self, y = 2) :\n",
    "        self.x = self.x + 1 + y\n",
    "        print(self.name,'party count',self.x)\n",
    "\n",
    "s = PartyAnimal('Sally')\n",
    "j = PartyAnimal('Jim')"
   ]
  },
  {
   "cell_type": "code",
   "execution_count": 28,
   "metadata": {},
   "outputs": [
    {
     "name": "stdout",
     "output_type": "stream",
     "text": [
      "Sally party count 2\n",
      "Jim party count 3\n",
      "Sally party count 6\n"
     ]
    }
   ],
   "source": [
    "s.party(1)\n",
    "j.party()\n",
    "s.party(3)"
   ]
  },
  {
   "cell_type": "markdown",
   "metadata": {},
   "source": [
    "## 2. Inheritance"
   ]
  },
  {
   "cell_type": "markdown",
   "metadata": {},
   "source": [
    "### 2.1. What is inheritance?\n",
    "* Inheritance is the relationship between classes.\n",
    "* Such relationship can be described as \"is a/an\", \"student is a human\", \"computer science student is a student\".\n",
    "* In the example above, \"human\" is the parent class of \"student\", and \"computer science student\" is a child class of \"student\".\n",
    "* Parent class is also called bass class or superclass, child class is also called derived/inherited class."
   ]
  },
  {
   "cell_type": "markdown",
   "metadata": {},
   "source": [
    "### 2.2. Inheritance syntax"
   ]
  },
  {
   "cell_type": "code",
   "execution_count": 33,
   "metadata": {},
   "outputs": [],
   "source": [
    "'''\n",
    "class DerivedClassName(BaseClassName):\n",
    "    <statement-1>\n",
    "    .\n",
    "    .\n",
    "    .\n",
    "    <statement-N>\n",
    "'''\n",
    "\n",
    "class Human:\n",
    "    def __init__(self,Name, Gender, Age):\n",
    "        self.gender = Gender\n",
    "        self.age = Age\n",
    "        self.name = Name\n",
    "    \n",
    "    def run(self):\n",
    "        print('{name} is running at speed of 20.'.format(name=self.name))\n",
    "        \n",
    "class Student1(Human):\n",
    "    def study(self):\n",
    "        print('%s is studying.' % self.name)\n",
    "\n",
    "student = Student1('David','male',23)"
   ]
  },
  {
   "cell_type": "code",
   "execution_count": 30,
   "metadata": {
    "collapsed": true
   },
   "outputs": [
    {
     "name": "stdout",
     "output_type": "stream",
     "text": [
      "male\n",
      "23\n",
      "David is running.\n",
      "David is studying.\n"
     ]
    },
    {
     "data": {
      "text/plain": [
       "['__class__',\n",
       " '__delattr__',\n",
       " '__dict__',\n",
       " '__dir__',\n",
       " '__doc__',\n",
       " '__eq__',\n",
       " '__format__',\n",
       " '__ge__',\n",
       " '__getattribute__',\n",
       " '__gt__',\n",
       " '__hash__',\n",
       " '__init__',\n",
       " '__init_subclass__',\n",
       " '__le__',\n",
       " '__lt__',\n",
       " '__module__',\n",
       " '__ne__',\n",
       " '__new__',\n",
       " '__reduce__',\n",
       " '__reduce_ex__',\n",
       " '__repr__',\n",
       " '__setattr__',\n",
       " '__sizeof__',\n",
       " '__str__',\n",
       " '__subclasshook__',\n",
       " '__weakref__',\n",
       " 'age',\n",
       " 'gender',\n",
       " 'name',\n",
       " 'run',\n",
       " 'study']"
      ]
     },
     "execution_count": 30,
     "metadata": {},
     "output_type": "execute_result"
    }
   ],
   "source": [
    "print(student.gender)\n",
    "print(student.age)\n",
    "student.run()\n",
    "student.study()\n",
    "dir(student)"
   ]
  },
  {
   "cell_type": "code",
   "execution_count": 31,
   "metadata": {},
   "outputs": [],
   "source": [
    "class FootballFan(PartyAnimal):\n",
    "    points = 0\n",
    "    def six(self):\n",
    "        self.points = self.points + 6\n",
    "        self.party()\n",
    "        print(self.name,\"points\",self.points)"
   ]
  },
  {
   "cell_type": "code",
   "execution_count": 32,
   "metadata": {
    "collapsed": true
   },
   "outputs": [
    {
     "name": "stdout",
     "output_type": "stream",
     "text": [
      "Sally constructed\n",
      "Sally party count 3\n",
      "Jim constructed\n",
      "Jim party count 3\n",
      "Jim party count 6\n",
      "Jim points 6\n",
      "['__class__', '__delattr__', '__dict__', '__dir__', '__doc__', '__eq__', '__format__', '__ge__', '__getattribute__', '__gt__', '__hash__', '__init__', '__init_subclass__', '__le__', '__lt__', '__module__', '__ne__', '__new__', '__reduce__', '__reduce_ex__', '__repr__', '__setattr__', '__sizeof__', '__str__', '__subclasshook__', '__weakref__', 'name', 'party', 'points', 'six', 'x']\n"
     ]
    }
   ],
   "source": [
    "s = PartyAnimal(\"Sally\")\n",
    "s.party()\n",
    "j = FootballFan(\"Jim\")\n",
    "j.party()\n",
    "j.six()\n",
    "print(dir(j))"
   ]
  },
  {
   "cell_type": "markdown",
   "metadata": {},
   "source": [
    "### 2.3. Overriding methods.\n",
    "* Method references are resolved as follows: the corresponding class attribute is searched, __descending down the chain of base classes__ if necessary, and the method reference is valid if this yields a function object.\n",
    "* You can override the methods in superclass by defining a new funcion with the same function name in child class.\n",
    "* You can call attributes in superclass by <code>super()</code>. But there is a simple way to call the base class method directly: just call BaseClassName.methodname(self, arguments)."
   ]
  },
  {
   "cell_type": "code",
   "execution_count": 38,
   "metadata": {},
   "outputs": [],
   "source": [
    "class Human:\n",
    "    def __init__(self,Name, Gender, Age):\n",
    "        self.gender = Gender\n",
    "        self.age = Age\n",
    "        self.name = Name\n",
    "    \n",
    "    def run(self):\n",
    "        print('{name} is running at speed of 20.'.format(name=self.name))\n",
    "\n",
    "class Student2(Human):\n",
    "    def study(self):\n",
    "        print('%s is studying.' % self.name)\n",
    "    def run(self):\n",
    "        print('{name} is running at speed of 40.'.format(name=self.name))\n",
    "        Human.run(self)\n",
    "        \n",
    "student2 = Student2('David','male',23)"
   ]
  },
  {
   "cell_type": "code",
   "execution_count": 39,
   "metadata": {},
   "outputs": [
    {
     "name": "stdout",
     "output_type": "stream",
     "text": [
      "David is running at speed of 40.\n",
      "David is running at speed of 20.\n"
     ]
    }
   ],
   "source": [
    "student2.run()"
   ]
  },
  {
   "cell_type": "markdown",
   "metadata": {},
   "source": [
    "\\*Python has two built-in functions that work with inheritance:\n",
    "\n",
    "* Use <code>isinstance()</code> to check an instance’s type: <code>isinstance(obj, int)</code> will be <code>True</code> only if <code>obj.\\_\\_class\\_\\_</code> is <code>int</code> or some class derived from <code>int</code>.\n",
    "* Use <code>issubclass()</code> to check class inheritance: <code>issubclass(bool, int)</code> is True since bool is a subclass of <code>int</code>. However, <code>issubclass(float, int)</code> is <code>False</code> since float is not a subclass of <code>int</code>."
   ]
  },
  {
   "cell_type": "markdown",
   "metadata": {},
   "source": [
    "### 2.4 Review of Class\n",
    "__attribute__\n",
    "* A variable that is part of a class.  \n",
    "__class__\n",
    "* A template that can be used to construct an object. Defines the attributes and methods that will make up the object.  \n",
    "__child class__\n",
    "* A new class created when a parent class is extended. The child class inherits all of the attributes and methods of the parent class.  \n",
    "__constructor__  \n",
    "* An optional specially named method (__init__) that is called at the moment when a class is being used to construct an object. Usually this is used to set up initial values for the object.  \n",
    "__destructor__\n",
    "* An optional specially named method (__del__) that is called at the moment just before an object is destroyed. Destructors are rarely used.  \n",
    "__inheritance__  \n",
    "* When we create a new class (child) by extending an existing class (parent). The child class has all the attributes and methods of the parent class plus additional attributes and methods defined by the child class.  \n",
    "__method__  \n",
    "* A function that is contained within a class and the objects that are constructed from the class. Some object-oriented patterns use 'message' instead of 'method' to describe this concept.  \n",
    "__object__  \n",
    "* A constructed instance of a class. An object contains all of the attributes and methods that were defined by the class. Some object-oriented documentation uses the term 'instance' interchangeably with 'object'.  \n",
    "__parent class__  \n",
    "The class which is being extended to create a new child class. The parent class contributes all of its methods and attributes to the new child class."
   ]
  },
  {
   "cell_type": "markdown",
   "metadata": {},
   "source": [
    "## 3. Advanced skills"
   ]
  },
  {
   "cell_type": "markdown",
   "metadata": {},
   "source": [
    "### 3.1. Context manager (with ... as ... statement)\n",
    "* myObject.\\_\\_enter\\_\\_() and myObject.\\_\\_exit\\_\\_() are two methods which will be invoked by <code>with</code> and <code>as</code> .\n",
    "* \\_\\_enter\\_\\_() will be invoked by <code>with</code>.\n",
    "* \\_\\_exit\\_\\_() will be invoked by <code>as</code>.\n",
    "* The context manager handles the entry into, and the exit from, the desired runtime context for the execution of the block of code.\n",
    "* Example: database connection, processing text files.\n",
    "* Reference: https://docs.python.org/3/reference/compound_stmts.html#the-with-statement"
   ]
  },
  {
   "cell_type": "code",
   "execution_count": null,
   "metadata": {},
   "outputs": [],
   "source": [
    "# with as statement\n",
    "'''\n",
    "with myObject as myVarible:\n",
    "    <statement-1>\n",
    "    <statement-2>\n",
    "    ...\n",
    "    <statement-n>\n",
    "'''\n",
    "# It is equivalent with:\n",
    "'''\n",
    "myVarible = myObject.__enter__()\n",
    "<statement>\n",
    "myObject.__exit__()\n",
    "'''\n"
   ]
  },
  {
   "cell_type": "code",
   "execution_count": 40,
   "metadata": {},
   "outputs": [
    {
     "name": "stdout",
     "output_type": "stream",
     "text": [
      "Python is a great language\n",
      "Yeah it's great!!\n",
      "\n"
     ]
    }
   ],
   "source": [
    "# Another example:\n",
    "\n",
    "# Open the file first and then read from this file. Close the file at last.\n",
    "with open(\"foo.txt\") as f:\n",
    "    data = f.read()\n",
    "    print (data)"
   ]
  },
  {
   "cell_type": "markdown",
   "metadata": {},
   "source": [
    "* When you write your own class, make sure return something you want to use in \\_\\_enter\\_\\_()."
   ]
  },
  {
   "cell_type": "code",
   "execution_count": 41,
   "metadata": {},
   "outputs": [
    {
     "name": "stdout",
     "output_type": "stream",
     "text": [
      "__enter__\n",
      "hello\n",
      "done\n"
     ]
    }
   ],
   "source": [
    "class sample:\n",
    "    def __enter__(self):\n",
    "        print (\"__enter__\")\n",
    "        return self\n",
    "    \n",
    "    def __exit__(self, type, value, trace):\n",
    "        print ('done')\n",
    "\n",
    "def get_sample():\n",
    "    return sample()\n",
    "\n",
    "with get_sample() as sample:\n",
    "    print ('hello')"
   ]
  }
 ],
 "metadata": {
  "kernelspec": {
   "display_name": "Python 3",
   "language": "python",
   "name": "python3"
  },
  "language_info": {
   "codemirror_mode": {
    "name": "ipython",
    "version": 3
   },
   "file_extension": ".py",
   "mimetype": "text/x-python",
   "name": "python",
   "nbconvert_exporter": "python",
   "pygments_lexer": "ipython3",
   "version": "3.6.9"
  }
 },
 "nbformat": 4,
 "nbformat_minor": 2
}
