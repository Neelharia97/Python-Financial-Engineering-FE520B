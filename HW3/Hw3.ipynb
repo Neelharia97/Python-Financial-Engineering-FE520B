{
 "cells": [
  {
   "cell_type": "code",
   "execution_count": 1,
   "metadata": {},
   "outputs": [
    {
     "name": "stdout",
     "output_type": "stream",
     "text": [
      "200\n",
      "60\n"
     ]
    }
   ],
   "source": [
    "#1.1\n",
    "class Rectangular():\n",
    "    \n",
    "    def __init__(self,length,breadth):\n",
    "        self.length = length\n",
    "        self.breadth = breadth\n",
    "        \n",
    "    def area(self):\n",
    "        return self.length * self.breadth\n",
    "    def perimeter(self):\n",
    "        return 2*(self.length+self.breadth)\n",
    "myRec = Rectangular(10,20)\n",
    "print(myRec.area())\n",
    "print(myRec.perimeter())    "
   ]
  },
  {
   "cell_type": "code",
   "execution_count": 2,
   "metadata": {},
   "outputs": [
    {
     "name": "stdout",
     "output_type": "stream",
     "text": [
      "length:  [91 54 38 93 72 90 15 99 13 11]\n",
      "breadth:  [33 85 80 41 80 75 94  7 56 74]\n",
      "area:  [3003 4590 3040 3813 5760 6750 1410  693  728  814]\n",
      "perimeter:  [248 278 236 268 304 330 218 212 138 170]\n"
     ]
    }
   ],
   "source": [
    "#1.2\n",
    "import numpy as np\n",
    "length= np.random.randint(1,100,10)\n",
    "width = np.random.randint(1,100,10)\n",
    "\n",
    "a = np.array(length)\n",
    "b = np.array(width)\n",
    "\n",
    "print(\"length: \",a)\n",
    "print(\"breadth: \",b)\n",
    "\n",
    "myRec = Rectangular(a,b)\n",
    "print(\"area: \",myRec.area())\n",
    "print(\"perimeter: \",myRec.perimeter())"
   ]
  },
  {
   "cell_type": "code",
   "execution_count": null,
   "metadata": {},
   "outputs": [],
   "source": []
  },
  {
   "cell_type": "code",
   "execution_count": 3,
   "metadata": {},
   "outputs": [],
   "source": [
    "import matplotlib.pyplot as plt\n"
   ]
  },
  {
   "cell_type": "code",
   "execution_count": 4,
   "metadata": {},
   "outputs": [
    {
     "name": "stdout",
     "output_type": "stream",
     "text": [
      "4 hr 57 mins and 30 seconds\n",
      "17850\n",
      "9885\n"
     ]
    }
   ],
   "source": [
    "#2\n",
    "class Time():\n",
    "    def __init__(self,hour,minute,second):\n",
    "        self.hour = hour\n",
    "        self.minute = minute\n",
    "        self.second = second\n",
    "    \n",
    "    def addTime(self,time):\n",
    "        self.second += time.second\n",
    "        if self.second>=60:\n",
    "            self.second,self.minute = self.second%60,self.minute + self.second//60\n",
    "        \n",
    "        self.minute += time.minute\n",
    "        if self.minute>=60:\n",
    "            self.minute,self.hour = self.minute%60,self.hour+self.minute//60\n",
    "        \n",
    "        self.hour += time.hour\n",
    "    \n",
    "    def DisplayTime(self):\n",
    "        print(f'{self.hour} hr {self.minute} mins and {self.second} seconds')\n",
    "        \n",
    "    def DisplaySecond(self):\n",
    "        self.second = self.hour*3600 + self.minute*60 + self.second\n",
    "        print(self.second)\n",
    "t1 = Time(2,12,45)\n",
    "t2 = Time(2,44,45)\n",
    "t1.addTime(t2)\n",
    "t1.DisplayTime()\n",
    "t1.DisplaySecond()\n",
    "t2.DisplaySecond()"
   ]
  },
  {
   "cell_type": "code",
   "execution_count": 78,
   "metadata": {},
   "outputs": [],
   "source": [
    "#3 Random Number Generator\n",
    "class LCG():\n",
    "    def __init__(self,seed,multiplier,increment,modulus):\n",
    "        self.seed =seed\n",
    "        self.multiplier = multiplier\n",
    "        self.increment = increment\n",
    "        self.modulus = modulus\n",
    "        \n",
    "    def getSeed(self):\n",
    "        return (self.seed)\n",
    "    \n",
    "    def SetSeed(self,inputSeed):\n",
    "        self.seed = inputSeed\n",
    "        return (self.seed)\n",
    "    \n",
    "    def generate(self):\n",
    "        self.seed = (self.seed*self.multiplier +self.increment)%self.modulus\n",
    "        self.SetSeed(self.seed)\n",
    "        return(self.seed)\n",
    "    \n",
    "    def nextNumbers(self,n):\n",
    "        for i in range(n):\n",
    "            #print(self.generate())\n",
    "            print(self.generate()/2**32)\n",
    "            plt.scatter(self.generate()/2**32,i)\n",
    "        "
   ]
  },
  {
   "cell_type": "code",
   "execution_count": 82,
   "metadata": {},
   "outputs": [
    {
     "name": "stdout",
     "output_type": "stream",
     "text": [
      "1.3969838619232178e-09\n",
      "4.2049214243888855e-07\n",
      "0.6596148065291345\n",
      "0.0012310813181102276\n",
      "0.6854860871098936\n",
      "0.8209961163811386\n",
      "0.06542350118979812\n",
      "0.5513265277259052\n",
      "0.7161383791826665\n",
      "0.7435504975728691\n"
     ]
    },
    {
     "data": {
      "image/png": "[encoded data removed]",
      "text/plain": [
       "<Figure size 432x288 with 1 Axes>"
      ]
     },
     "metadata": {
      "needs_background": "light"
     },
     "output_type": "display_data"
    }
   ],
   "source": [
    "class SCG(LCG):\n",
    "    def __init__(self,seed,multiplier,increment,modulus):\n",
    "        self.seed = seed\n",
    "        self.multiplier = multiplier\n",
    "        self.increment = increment\n",
    "        self.modulus = modulus\n",
    "        if self.seed%4!=2:\n",
    "            print(\"error\")\n",
    "    #    else:\n",
    "            \n",
    "    def generate(self):\n",
    "        if self.seed%4!=2:\n",
    "            ValueError(\"error\")\n",
    "        else:\n",
    "            self.seed = (self.seed*(self.seed + 1))%self.modulus\n",
    "            return (self.seed)\n",
    "        \n",
    "    \n",
    "        \n",
    "a = LCG(1,1103515245,12345,2**32)\n",
    "b = SCG(2,1103515245,12345,2**32)\n",
    "b.nextNumbers(10)\n",
    "#a.nextNumbers(10)\n",
    "    "
   ]
  },
  {
   "cell_type": "code",
   "execution_count": null,
   "metadata": {
    "scrolled": true
   },
   "outputs": [],
   "source": [
    "#4point.py\n",
    "class point():\n",
    "    def __init__(self,x,y):\n",
    "        self.x = x\n",
    "        self.y = y\n",
    "        \n",
    "    def cal(self):\n",
    "        return sqrt(self.x**2 + self.y**2)\n",
    "    "
   ]
  },
  {
   "cell_type": "code",
   "execution_count": 1,
   "metadata": {},
   "outputs": [],
   "source": [
    "#MCTest.py\n",
    "import time\n",
    "import numpy as np\n",
    "\n",
    "from generator import LCG,SCG\n",
    "from point import point\n",
    "\n",
    "def test(gen, num_points=10000000):\n",
    "    ''' Tests a generator by estimating the ratio of points that fall within a circle. '''\n",
    "    start = time.time()\n",
    "    it = iter(gen)\n",
    "    points = np.fromiter(it, float, count=num_points)\n",
    "    points = 2 * ((points - min(points)) / (max(points) - min(points))) - 1\n",
    "\n",
    "    circle_count = 0\n",
    "    for i in range(0, num_points):\n",
    "        p = Point(points[i], points[i])\n",
    "        circle_count += 1 if p.distance() <= 1 else 0\n",
    "\n",
    "    end = time.time()\n",
    "\n",
    "    print(f'\\nTested {num_points} points in {(end - start):.5f} seconds.')\n",
    "    print(f'Result: {(math.pi/4 - circle_count/num_points):.5f}\\n')\n",
    "\n",
    "if __name__ == '__main__':\n",
    "    lcg = LCG(1, 1103515245, 12345, 2 ** 32)\n",
    "    scg = SCG(1, 1103515245, 12345, 2 ** 32)\n",
    "\n",
    "    test(lcg)\n",
    "    # Tested 10000000 points in 53.30481 seconds.\n",
    "    # Result: 0.07810\n",
    "\n",
    "    test(scg)\n",
    "    # Tested 10000000 points in 38.56882 seconds.\n",
    "    # Result: 0.07843"
   ]
  }
 ],
 "metadata": {
  "kernelspec": {
   "display_name": "Python 3",
   "language": "python",
   "name": "python3"
  },
  "language_info": {
   "codemirror_mode": {
    "name": "ipython",
    "version": 3
   },
   "file_extension": ".py",
   "mimetype": "text/x-python",
   "name": "python",
   "nbconvert_exporter": "python",
   "pygments_lexer": "ipython3",
   "version": "3.7.1"
  }
 },
 "nbformat": 4,
 "nbformat_minor": 4
}
