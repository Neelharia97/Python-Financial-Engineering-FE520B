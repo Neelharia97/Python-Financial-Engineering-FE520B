{
 "cells": [
  {
   "cell_type": "code",
   "execution_count": 36,
   "metadata": {},
   "outputs": [],
   "source": [
    "import sys\n",
    "from collections import defaultdict"
   ]
  },
  {
   "cell_type": "code",
   "execution_count": 2,
   "metadata": {},
   "outputs": [],
   "source": [
    "def Ball_Drop(height, drop_num):\n",
    "    l = []\n",
    "    while drop_num > 0:\n",
    "        drop_num -= 1\n",
    "        height *= 0.25\n",
    "        l.append(height)\n",
    "    return height"
   ]
  },
  {
   "cell_type": "code",
   "execution_count": 3,
   "metadata": {},
   "outputs": [
    {
     "name": "stdout",
     "output_type": "stream",
     "text": [
      "6.25\n"
     ]
    }
   ],
   "source": [
    "Heights = 100\n",
    "drop_num = 2\n",
    "\n",
    "Heights_after = Ball_Drop(Heights, drop_num)\n",
    "print(Heights_after)\n"
   ]
  },
  {
   "cell_type": "code",
   "execution_count": 4,
   "metadata": {},
   "outputs": [],
   "source": [
    "#Strings Practice"
   ]
  },
  {
   "cell_type": "code",
   "execution_count": null,
   "metadata": {},
   "outputs": [],
   "source": []
  },
  {
   "cell_type": "code",
   "execution_count": null,
   "metadata": {},
   "outputs": [],
   "source": []
  },
  {
   "cell_type": "code",
   "execution_count": 7,
   "metadata": {},
   "outputs": [],
   "source": [
    "#Step to Fibonacci Sequence"
   ]
  },
  {
   "cell_type": "code",
   "execution_count": 22,
   "metadata": {},
   "outputs": [],
   "source": [
    "def Step_2_Fibo(number, isIncrement = True):\n",
    "    if number == 0 or number == 1:\n",
    "        return 0\n",
    "    a = 0\n",
    "    b = 1\n",
    "    c = a+b\n",
    "    while c<number:\n",
    "        a,b,c = b,b+a,b+c\n",
    "      #  print (\"a:\", a)\n",
    "     #   print (\"b:\",b)\n",
    "     #   print (\"c:\",c)\n",
    "    \n",
    "    if number == c:\n",
    "        return 0\n",
    "    \n",
    "    return ((c-number) if isIncrement else (number -b))\n",
    "        \n",
    "        "
   ]
  },
  {
   "cell_type": "code",
   "execution_count": 20,
   "metadata": {},
   "outputs": [
    {
     "data": {
      "text/plain": [
       "2"
      ]
     },
     "execution_count": 20,
     "metadata": {},
     "output_type": "execute_result"
    }
   ],
   "source": [
    "step_2_Fibo(15,False)"
   ]
  },
  {
   "cell_type": "code",
   "execution_count": null,
   "metadata": {},
   "outputs": [],
   "source": []
  },
  {
   "cell_type": "code",
   "execution_count": 10,
   "metadata": {},
   "outputs": [],
   "source": [
    "# print(identi_Substring('zzzyz'))"
   ]
  },
  {
   "cell_type": "code",
   "execution_count": 11,
   "metadata": {},
   "outputs": [],
   "source": [
    "def identi_Substring(test_string):\n",
    "    length_string = len(test_string)\n",
    "    if length_string == 0:\n",
    "        return 0\n",
    "    \n",
    "    substr_count = 0\n",
    "    \n",
    "    i = 0\n",
    "    j = i+1\n",
    "    while j < length_string:\n",
    "        if test_string[i] == test_string[j]:\n",
    "            j+=1\n",
    "        else:\n",
    "            difference = j-i\n",
    "            substr_count += (difference*(difference + 1))/2\n",
    "            i, j = j, j+1\n",
    "    remaining= length_string - i\n",
    "    substr_count += (remaining * (remaining +1))/2\n",
    "    return int(substr_count)"
   ]
  },
  {
   "cell_type": "code",
   "execution_count": 12,
   "metadata": {},
   "outputs": [
    {
     "data": {
      "text/plain": [
       "8"
      ]
     },
     "execution_count": 12,
     "metadata": {},
     "output_type": "execute_result"
    }
   ],
   "source": [
    "identi_Substring('zzzyz')"
   ]
  },
  {
   "cell_type": "code",
   "execution_count": 23,
   "metadata": {},
   "outputs": [
    {
     "name": "stdout",
     "output_type": "stream",
     "text": [
      "\n",
      "Q1\n",
      "Correct/Total: 0/3\n",
      "\n",
      "Q2\n",
      "Correct/Total: 0/2\n",
      "\n",
      "Q3\n",
      "Correct/Total: 3/3\n",
      "\n",
      "Q4\n",
      "Correct/Total: 3/3\n"
     ]
    }
   ],
   "source": [
    "if __name__ == \"__main__\":\n",
    "    print(\"\\nQ1\")\n",
    "    ans_ls = []\n",
    "    try:\n",
    "        ans_ls.append(Ball_Drop(100, 2)==156.25)\n",
    "    except:\n",
    "        ans_ls.append(False)\n",
    "\n",
    "    try:\n",
    "        ans_ls.append(Ball_Drop(10, 1)==12.5)\n",
    "    except:\n",
    "        ans_ls.append(False)\n",
    "\n",
    "    try:\n",
    "        ans_ls.append(Ball_Drop(20)==33.30078125)\n",
    "    except:\n",
    "        ans_ls.append(False)\n",
    "\n",
    "    print(f'Correct/Total: {sum(ans_ls)}/{len(ans_ls)}')\n",
    "\n",
    "\n",
    "\n",
    "    print(\"\\nQ2\")\n",
    "    ans_ls = []\n",
    "\n",
    "    Given_str_1  = '''\n",
    "    \"No need to light a Night light on a Light night,\\t like tonight!\"\n",
    "    '''\n",
    "    Given_str_2  = '''\n",
    "    How any good cookies could a good cook cook, if a good cook could cook as many good cookies\\n as a good cook could cook?\n",
    "    '''\n",
    "    try:\n",
    "        res_dict_1 = Get_Token(Given_str_1)\n",
    "        ans_ls.append(res_dict_1 == {'no': 1, 'need': 1, 'to': 1, 'light': 3, 'a': 2, 'night': 2, 'on': 1, 'like': 1, 'tonight': 1})\n",
    "    except:\n",
    "        ans_ls.append(False)\n",
    "\n",
    "    try:\n",
    "        res_dict_2 = Get_Token(Given_str_2)\n",
    "        ans_ls.append(res_dict_2 == {'how': 1, 'any': 1, 'good': 5, 'cookies': 2, 'could': 3, 'a': 3, 'cook': 6, 'if': 1, 'as': 2, 'many': 1})\n",
    "    except:\n",
    "        ans_ls.append(False)\n",
    "    \n",
    "\n",
    "    print(f'Correct/Total: {sum(ans_ls)}/{len(ans_ls)}')\n",
    "\n",
    "\n",
    "    print(\"\\nQ3\")\n",
    "    ans_ls = []\n",
    "    try:\n",
    "        ans_ls.append(Step_2_Fibo(15, False)==2)\n",
    "    except:\n",
    "        ans_ls.append(False)\n",
    "\n",
    "    try:\n",
    "        ans_ls.append(Step_2_Fibo(15)==6)\n",
    "    except:\n",
    "        ans_ls.append(False)\n",
    "\n",
    "    try:\n",
    "        ans_ls.append(Step_2_Fibo(21, True)==0)\n",
    "    except:\n",
    "        ans_ls.append(False)\n",
    "    print(f'Correct/Total: {sum(ans_ls)}/{len(ans_ls)}')\n",
    "\n",
    "\n",
    "    print(\"\\nQ4\")\n",
    "    ans_ls = []\n",
    "    try:\n",
    "        #print(identi_Substring('zzzz'))\n",
    "        ans_ls.append(identi_Substring('zzzz')==10)\n",
    "    except:\n",
    "        ans_ls.append(False)\n",
    "\n",
    "    try:\n",
    "        ans_ls.append(identi_Substring('zzzyz')==8)\n",
    "    except:\n",
    "        ans_ls.append(False)\n",
    "\n",
    "    try:\n",
    "        ans_ls.append(identi_Substring('zzxyzzz')==11)\n",
    "    except:\n",
    "        ans_ls.append(False)\n",
    "    print(f'Correct/Total: {sum(ans_ls)}/{len(ans_ls)}')"
   ]
  },
  {
   "cell_type": "code",
   "execution_count": null,
   "metadata": {},
   "outputs": [],
   "source": []
  }
 ],
 "metadata": {
  "kernelspec": {
   "display_name": "Python 3",
   "language": "python",
   "name": "python3"
  },
  "language_info": {
   "codemirror_mode": {
    "name": "ipython",
    "version": 3
   },
   "file_extension": ".py",
   "mimetype": "text/x-python",
   "name": "python",
   "nbconvert_exporter": "python",
   "pygments_lexer": "ipython3",
   "version": "3.7.1"
  }
 },
 "nbformat": 4,
 "nbformat_minor": 4
}
